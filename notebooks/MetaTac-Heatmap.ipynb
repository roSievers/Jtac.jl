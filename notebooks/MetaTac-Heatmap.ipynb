{
 "cells": [
  {
   "cell_type": "code",
   "execution_count": 1,
   "metadata": {},
   "outputs": [
    {
     "name": "stderr",
     "output_type": "stream",
     "text": [
      "┌ Info: Recompiling stale cache file /home/rolf/.julia/compiled/v1.1/Jtac/SKegO.ji for Jtac [07820df6-9145-5223-99f0-03d22a5cd369]\n",
      "└ @ Base loading.jl:1184\n"
     ]
    }
   ],
   "source": [
    "using Winston, LinearAlgebra, Jtac"
   ]
  },
  {
   "cell_type": "code",
   "execution_count": 135,
   "metadata": {},
   "outputs": [
    {
     "data": {
      "text/plain": [
       "init_plot (generic function with 1 method)"
      ]
     },
     "execution_count": 135,
     "metadata": {},
     "output_type": "execute_result"
    }
   ],
   "source": [
    "function init_plot(heatmap)\n",
    "    colormap(\"grays\")\n",
    "\n",
    "    p = FramedPlot( aspect_ratio = 1, xrange = (0,9), yrange = (0, 9), draw_axis=false )\n",
    "\n",
    "    # TODO: Rescaling shoud happen in the color map\n",
    "    img = Winston.data2rgb(heatmap  .^ (1/2), (0.0, 1.5), colormap())\n",
    "\n",
    "    # turn around orientation, if necessary\n",
    "    # img = reverse(img,dims=2)\n",
    "    img = reverse(img,dims=1)\n",
    "\n",
    "    add(p, Image((0,9), (0,9), img))\n",
    "\n",
    "    setattr(p.x1, \"draw_ticklabels\", false)\n",
    "    setattr(p.y1, \"draw_ticklabels\", false)\n",
    "    setattr(p.x1, \"draw_ticks\", false)\n",
    "    setattr(p.x2, \"draw_ticks\", false)\n",
    "    setattr(p.y1, \"draw_ticks\", false)\n",
    "    setattr(p.y2, \"draw_ticks\", false)\n",
    "\n",
    "    for i in 1:9\n",
    "        add(p, LineX(i))\n",
    "        add(p, LineY(i))\n",
    "    end\n",
    "    add(p, LineX(3, width=10))\n",
    "    add(p, LineX(6, width=10))\n",
    "    add(p, LineY(3, width=10))\n",
    "    add(p, LineY(6, width=10))\n",
    "    p\n",
    "end"
   ]
  },
  {
   "cell_type": "code",
   "execution_count": 96,
   "metadata": {},
   "outputs": [
    {
     "data": {
      "text/plain": [
       "add_tokens! (generic function with 1 method)"
      ]
     },
     "execution_count": 96,
     "metadata": {},
     "output_type": "execute_result"
    }
   ],
   "source": [
    "function add_tokens!(plot, game)\n",
    "    # Given a MetaTac state, generate a list of points\n",
    "    x_xs = []\n",
    "    x_ys = []\n",
    "    o_xs = []\n",
    "    o_ys = []\n",
    "\n",
    "    for x in 1:9\n",
    "        for y in 1:9\n",
    "            index = 9 * (x-1)+(10-y)\n",
    "            token = game.board[index]\n",
    "            if token == 1\n",
    "                push!(x_xs, x - 0.5)\n",
    "                push!(x_ys, y - 0.5)\n",
    "            elseif token == -1\n",
    "                push!(o_xs, x - 0.5)\n",
    "                push!(o_ys, y - 0.5)\n",
    "            end\n",
    "        end\n",
    "    end\n",
    "\n",
    "    x_p = Points(x_xs, x_ys, symbolkind=\"cross\")\n",
    "    o_p = Points(o_xs, o_ys, symbolkind=\"circle\")\n",
    "\n",
    "    add(plot, x_p)\n",
    "    add(plot, o_p)\n",
    "end"
   ]
  },
  {
   "cell_type": "code",
   "execution_count": 27,
   "metadata": {},
   "outputs": [
    {
     "data": {
      "text/plain": [
       "NeuralModel{MetaTac,false}(Chain{false}((Chain{false}((Dense{false}(P(Array{Float32,2}(100,162)), P(Array{Float32,1}(100)), identity),)), Dense{false}(P(Array{Float32,2}(82,100)), P(Array{Float32,1}(82)), identity))), tanh, Knet.softmax)"
      ]
     },
     "execution_count": 27,
     "metadata": {},
     "output_type": "execute_result"
    }
   ],
   "source": [
    "network = @chain MetaTac Dense(100)\n",
    "\n",
    "m = NeuralModel(MetaTac, network)"
   ]
  },
  {
   "cell_type": "code",
   "execution_count": 28,
   "metadata": {},
   "outputs": [
    {
     "name": "stdout",
     "output_type": "stream",
     "text": [
      "value = -0.5425505f0\n"
     ]
    },
    {
     "data": {
      "text/plain": [
       "9×9 Array{Float32,2}:\n",
       " 0.015184    0.00921394  0.00783636  …  0.0112193   0.00869597  0.0146183 \n",
       " 0.0105496   0.0165694   0.00937627     0.0105489   0.0134828   0.0104295 \n",
       " 0.015452    0.0111553   0.010728       0.0139634   0.0227538   0.00610522\n",
       " 0.014083    0.0170853   0.0097582      0.013704    0.013941    0.0209091 \n",
       " 0.0129024   0.0107421   0.0139902      0.0106088   0.00673467  0.00960559\n",
       " 0.0128785   0.0147022   0.0112112   …  0.00856717  0.0133309   0.0151009 \n",
       " 0.0103912   0.0109317   0.00989854     0.00886548  0.0146393   0.0136146 \n",
       " 0.00945522  0.0119964   0.0123381      0.00979076  0.0192452   0.00737931\n",
       " 0.0218972   0.0104599   0.0141312      0.0125676   0.0116757   0.00787624"
      ]
     },
     "execution_count": 28,
     "metadata": {},
     "output_type": "execute_result"
    }
   ],
   "source": [
    "value, policy = apply(m, MetaTac())\n",
    "@show value\n",
    "policy = reshape(policy, (9, 9))"
   ]
  },
  {
   "cell_type": "code",
   "execution_count": 108,
   "metadata": {},
   "outputs": [],
   "source": [
    "game = MetaTac()\n",
    "for i in 1:30\n",
    "    random_turn!(game)\n",
    "end"
   ]
  },
  {
   "cell_type": "code",
   "execution_count": 138,
   "metadata": {},
   "outputs": [
    {
     "name": "stdout",
     "output_type": "stream",
     "text": [
      "Jtac.run_mcts!(RolloutModel(), game, root=root, power=100000) = nothing\n"
     ]
    }
   ],
   "source": [
    "root = Jtac.Node()\n",
    "@show Jtac.run_mcts!(RolloutModel(), game, root = root, power = 100000)"
   ]
  },
  {
   "cell_type": "code",
   "execution_count": 139,
   "metadata": {},
   "outputs": [
    {
     "data": {
      "text/plain": [
       "9×9 Array{Float64,2}:\n",
       " 0.0  0.0  0.0  0.0  0.0  0.0  0.0        0.0         0.0      \n",
       " 0.0  0.0  0.0  0.0  0.0  0.0  0.0        0.0         0.0      \n",
       " 0.0  0.0  0.0  0.0  0.0  0.0  0.0        0.0         0.0      \n",
       " 0.0  0.0  0.0  0.0  0.0  0.0  0.0        0.0         0.0411704\n",
       " 0.0  0.0  0.0  0.0  0.0  0.0  0.891859   0.00422004  0.0509605\n",
       " 0.0  0.0  0.0  0.0  0.0  0.0  0.0117901  0.0         0.0      \n",
       " 0.0  0.0  0.0  0.0  0.0  0.0  0.0        0.0         0.0      \n",
       " 0.0  0.0  0.0  0.0  0.0  0.0  0.0        0.0         0.0      \n",
       " 0.0  0.0  0.0  0.0  0.0  0.0  0.0        0.0         0.0      "
      ]
     },
     "execution_count": 139,
     "metadata": {},
     "output_type": "execute_result"
    }
   ],
   "source": [
    "actions = getfield.(root.children, :action)\n",
    "matrix = zeros(81)\n",
    "matrix[actions] = root.visit_counter\n",
    "\n",
    "heatmap = reshape(normalize(matrix, 1), (9, 9)) # .^(1/temperature)"
   ]
  },
  {
   "cell_type": "code",
   "execution_count": 141,
   "metadata": {},
   "outputs": [
    {
     "data": {
      "image/png": "[encoded data removed]",
      "text/plain": [
       "FramedPlot(...)"
      ]
     },
     "execution_count": 141,
     "metadata": {},
     "output_type": "execute_result"
    }
   ],
   "source": [
    "p = init_plot(heatmap)\n",
    "add_tokens!(p, game)"
   ]
  },
  {
   "cell_type": "code",
   "execution_count": null,
   "metadata": {},
   "outputs": [],
   "source": []
  }
 ],
 "metadata": {
  "kernelspec": {
   "display_name": "Julia 1.1.1",
   "language": "julia",
   "name": "julia-1.1"
  },
  "language_info": {
   "file_extension": ".jl",
   "mimetype": "application/julia",
   "name": "julia",
   "version": "1.1.1"
  }
 },
 "nbformat": 4,
 "nbformat_minor": 2
}
