{
 "cells": [
  {
   "cell_type": "code",
   "execution_count": 2,
   "metadata": {},
   "outputs": [],
   "source": [
    "using Winston, LinearAlgebra, Jtac"
   ]
  },
  {
   "cell_type": "code",
   "execution_count": 3,
   "metadata": {},
   "outputs": [
    {
     "data": {
      "text/plain": [
       "init_plot (generic function with 1 method)"
      ]
     },
     "execution_count": 3,
     "metadata": {},
     "output_type": "execute_result"
    }
   ],
   "source": [
    "function init_plot(heatmap)\n",
    "    colormap(\"grays\")\n",
    "\n",
    "    p = FramedPlot( aspect_ratio = 1, xrange = (0,9), yrange = (0, 9), draw_axis=false )\n",
    "\n",
    "    # TODO: Rescaling shoud happen in the color map\n",
    "    img = Winston.data2rgb(heatmap  .^ (1/2), (0.0, 1.5), colormap())\n",
    "\n",
    "    # turn around orientation, if necessary\n",
    "    # img = reverse(img,dims=2)\n",
    "    img = reverse(img,dims=1)\n",
    "\n",
    "    add(p, Image((0,9), (0,9), img))\n",
    "\n",
    "    setattr(p.x1, \"draw_ticklabels\", false)\n",
    "    setattr(p.y1, \"draw_ticklabels\", false)\n",
    "    setattr(p.x1, \"draw_ticks\", false)\n",
    "    setattr(p.x2, \"draw_ticks\", false)\n",
    "    setattr(p.y1, \"draw_ticks\", false)\n",
    "    setattr(p.y2, \"draw_ticks\", false)\n",
    "\n",
    "    for i in 1:9\n",
    "        add(p, LineX(i))\n",
    "        add(p, LineY(i))\n",
    "    end\n",
    "    add(p, LineX(3, width=10))\n",
    "    add(p, LineX(6, width=10))\n",
    "    add(p, LineY(3, width=10))\n",
    "    add(p, LineY(6, width=10))\n",
    "    p\n",
    "end"
   ]
  },
  {
   "cell_type": "code",
   "execution_count": 4,
   "metadata": {},
   "outputs": [
    {
     "data": {
      "text/plain": [
       "add_tokens! (generic function with 1 method)"
      ]
     },
     "execution_count": 4,
     "metadata": {},
     "output_type": "execute_result"
    }
   ],
   "source": [
    "function add_tokens!(plot, game)\n",
    "    # Given a MetaTac state, generate a list of points\n",
    "    x_xs = []\n",
    "    x_ys = []\n",
    "    o_xs = []\n",
    "    o_ys = []\n",
    "\n",
    "    for x in 1:9\n",
    "        for y in 1:9\n",
    "            index = 9 * (x-1)+(10-y)\n",
    "            token = game.board[index]\n",
    "            if token == 1\n",
    "                push!(x_xs, x - 0.5)\n",
    "                push!(x_ys, y - 0.5)\n",
    "            elseif token == -1\n",
    "                push!(o_xs, x - 0.5)\n",
    "                push!(o_ys, y - 0.5)\n",
    "            end\n",
    "        end\n",
    "    end\n",
    "\n",
    "    x_p = Points(x_xs, x_ys, symbolkind=\"cross\")\n",
    "    o_p = Points(o_xs, o_ys, symbolkind=\"circle\")\n",
    "\n",
    "    add(plot, x_p)\n",
    "    add(plot, o_p)\n",
    "end"
   ]
  },
  {
   "cell_type": "code",
   "execution_count": 5,
   "metadata": {},
   "outputs": [
    {
     "data": {
      "text/plain": [
       "NeuralModel{MetaTac,false}(Chain{false}((Chain{false}((Dense{false}(P(Array{Float32,2}(100,162)), P(Array{Float32,1}(100)), identity),)), Dense{false}(P(Array{Float32,2}(82,100)), P(Array{Float32,1}(82)), identity))), tanh, Knet.softmax)"
      ]
     },
     "execution_count": 5,
     "metadata": {},
     "output_type": "execute_result"
    }
   ],
   "source": [
    "network = @chain MetaTac Dense(100)\n",
    "\n",
    "m = NeuralModel(MetaTac, network)"
   ]
  },
  {
   "cell_type": "code",
   "execution_count": 6,
   "metadata": {},
   "outputs": [
    {
     "name": "stdout",
     "output_type": "stream",
     "text": [
      "value = 0.1686277f0\n"
     ]
    },
    {
     "data": {
      "text/plain": [
       "9×9 Array{Float32,2}:\n",
       " 0.0111924   0.0163809   0.0154518  …  0.00716946  0.010061   0.0125226 \n",
       " 0.0160182   0.00761759  0.0130746     0.0106068   0.01128    0.0107621 \n",
       " 0.00775107  0.00941934  0.0127667     0.0102559   0.0111694  0.0101978 \n",
       " 0.0136999   0.0171689   0.0124102     0.0141777   0.0100478  0.0075047 \n",
       " 0.0128983   0.0099449   0.0126609     0.00770375  0.0143146  0.0109952 \n",
       " 0.0085111   0.0111322   0.0231447  …  0.0140367   0.0207355  0.0138808 \n",
       " 0.0164275   0.010047    0.0103721     0.0162728   0.0107243  0.00939618\n",
       " 0.00841395  0.0129517   0.0105593     0.0128198   0.0150806  0.0131174 \n",
       " 0.0180982   0.00677167  0.0107029     0.00804722  0.018383   0.0118213 "
      ]
     },
     "execution_count": 6,
     "metadata": {},
     "output_type": "execute_result"
    }
   ],
   "source": [
    "value, policy = apply(m, MetaTac())\n",
    "@show value\n",
    "policy = reshape(policy, (9, 9))"
   ]
  },
  {
   "cell_type": "code",
   "execution_count": 102,
   "metadata": {},
   "outputs": [],
   "source": [
    "game = MetaTac()\n",
    "for i in 1:30\n",
    "    random_turn!(game)\n",
    "end"
   ]
  },
  {
   "cell_type": "code",
   "execution_count": 169,
   "metadata": {},
   "outputs": [
    {
     "name": "stdout",
     "output_type": "stream",
     "text": [
      "Jtac.run_mcts(RolloutModel(), game, root=root, power=500, mcts_exploration=1.4) = nothing\n"
     ]
    }
   ],
   "source": [
    "root = Jtac.Node()\n",
    "@show Jtac.run_mcts(RolloutModel(), game, root = root, power = 500, mcts_exploration = 1.4)"
   ]
  },
  {
   "cell_type": "code",
   "execution_count": 170,
   "metadata": {},
   "outputs": [
    {
     "data": {
      "text/plain": [
       "9×9 Array{Float64,2}:\n",
       " 0.0  0.0  0.0  0.0380762  0.0       0.0521042  0.0  0.0  0.0\n",
       " 0.0  0.0  0.0  0.426854   0.430862  0.0        0.0  0.0  0.0\n",
       " 0.0  0.0  0.0  0.0521042  0.0       0.0        0.0  0.0  0.0\n",
       " 0.0  0.0  0.0  0.0        0.0       0.0        0.0  0.0  0.0\n",
       " 0.0  0.0  0.0  0.0        0.0       0.0        0.0  0.0  0.0\n",
       " 0.0  0.0  0.0  0.0        0.0       0.0        0.0  0.0  0.0\n",
       " 0.0  0.0  0.0  0.0        0.0       0.0        0.0  0.0  0.0\n",
       " 0.0  0.0  0.0  0.0        0.0       0.0        0.0  0.0  0.0\n",
       " 0.0  0.0  0.0  0.0        0.0       0.0        0.0  0.0  0.0"
      ]
     },
     "execution_count": 170,
     "metadata": {},
     "output_type": "execute_result"
    }
   ],
   "source": [
    "actions = getfield.(root.children, :action)\n",
    "matrix = zeros(81)\n",
    "matrix[actions] = root.visit_counter\n",
    "\n",
    "heatmap = reshape(normalize(matrix, 1), (9, 9)) # .^(1/temperature)"
   ]
  },
  {
   "cell_type": "code",
   "execution_count": 171,
   "metadata": {},
   "outputs": [
    {
     "data": {
      "image/png": "[encoded data removed]",
      "text/plain": [
       "FramedPlot(...)"
      ]
     },
     "execution_count": 171,
     "metadata": {},
     "output_type": "execute_result"
    }
   ],
   "source": [
    "p = init_plot(heatmap)\n",
    "add_tokens!(p, game)"
   ]
  },
  {
   "cell_type": "code",
   "execution_count": null,
   "metadata": {},
   "outputs": [],
   "source": []
  }
 ],
 "metadata": {
  "kernelspec": {
   "display_name": "Julia 1.1.1",
   "language": "julia",
   "name": "julia-1.1"
  },
  "language_info": {
   "file_extension": ".jl",
   "mimetype": "application/julia",
   "name": "julia",
   "version": "1.1.1"
  }
 },
 "nbformat": 4,
 "nbformat_minor": 2
}
