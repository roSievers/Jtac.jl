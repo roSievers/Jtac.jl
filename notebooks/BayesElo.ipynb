{
 "cells": [
  {
   "cell_type": "markdown",
   "metadata": {},
   "source": [
    "# Bayes Elo for JTac"
   ]
  },
  {
   "cell_type": "code",
   "execution_count": 1,
   "metadata": {},
   "outputs": [],
   "source": [
    "using Statistics, LinearAlgebra, Random"
   ]
  },
  {
   "cell_type": "code",
   "execution_count": 3,
   "metadata": {},
   "outputs": [],
   "source": [
    "import NLopt"
   ]
  },
  {
   "cell_type": "code",
   "execution_count": 4,
   "metadata": {},
   "outputs": [
    {
     "data": {
      "text/plain": [
       "sigmoid (generic function with 1 method)"
      ]
     },
     "execution_count": 4,
     "metadata": {},
     "output_type": "execute_result"
    }
   ],
   "source": [
    "sigmoid(d) = 1 / (1 + 10^(d/400))"
   ]
  },
  {
   "cell_type": "code",
   "execution_count": 5,
   "metadata": {},
   "outputs": [],
   "source": [
    "struct RankedGame\n",
    "    player1 :: Int\n",
    "    player2 :: Int\n",
    "    result\n",
    "end"
   ]
  },
  {
   "cell_type": "code",
   "execution_count": 6,
   "metadata": {},
   "outputs": [
    {
     "data": {
      "text/plain": [
       "likelihood (generic function with 1 method)"
      ]
     },
     "execution_count": 6,
     "metadata": {},
     "output_type": "execute_result"
    }
   ],
   "source": [
    "function likelihood(elo1, elo2, result; draw = 0, adv = 0)\n",
    "    @assert draw >= 0 \"Drawing may not carry a negative elo.\"\n",
    "    p1 = sigmoid(elo2 - elo1 - adv + draw)\n",
    "    p2 = sigmoid(elo1 - elo2 + adv + draw)\n",
    "    if result == 1\n",
    "        p1\n",
    "    elseif result == -1\n",
    "        p2\n",
    "    else\n",
    "        1 - p1 - p2\n",
    "    end\n",
    "end"
   ]
  },
  {
   "cell_type": "code",
   "execution_count": 7,
   "metadata": {},
   "outputs": [
    {
     "data": {
      "text/plain": [
       "likelihood (generic function with 2 methods)"
      ]
     },
     "execution_count": 7,
     "metadata": {},
     "output_type": "execute_result"
    }
   ],
   "source": [
    "function likelihood(eloList, rankedGame :: RankedGame; draw = 0, adv = 0)\n",
    "    likelihood(eloList[rankedGame.player1], eloList[rankedGame.player2], rankedGame.result, draw = draw, adv = adv)\n",
    "end"
   ]
  },
  {
   "cell_type": "code",
   "execution_count": 8,
   "metadata": {},
   "outputs": [
    {
     "data": {
      "text/plain": [
       "log_likelihood (generic function with 1 method)"
      ]
     },
     "execution_count": 8,
     "metadata": {},
     "output_type": "execute_result"
    }
   ],
   "source": [
    "function log_likelihood(eloList, rankedGames :: Vector{RankedGame}; draw = 0, adv = 0)\n",
    "    sum( rankedGames ) do rankedGame\n",
    "        log(likelihood(eloList, rankedGame, draw = draw, adv = adv))\n",
    "    end\n",
    "end"
   ]
  },
  {
   "cell_type": "code",
   "execution_count": 9,
   "metadata": {},
   "outputs": [
    {
     "data": {
      "text/plain": [
       "log_prior (generic function with 1 method)"
      ]
     },
     "execution_count": 9,
     "metadata": {},
     "output_type": "execute_result"
    }
   ],
   "source": [
    "function log_prior(elo; mean = 0, sd = 1000)\n",
    "    -0.5 * ((elo - mean) / sd)^2\n",
    "end"
   ]
  },
  {
   "cell_type": "code",
   "execution_count": 10,
   "metadata": {},
   "outputs": [
    {
     "data": {
      "text/plain": [
       "log_prior (generic function with 2 methods)"
      ]
     },
     "execution_count": 10,
     "metadata": {},
     "output_type": "execute_result"
    }
   ],
   "source": [
    "function log_prior(eloList :: Vector; mean = 0, sd = 1000)\n",
    "    sum(eloList) do elo\n",
    "        log_prior(elo, mean = mean, sd = sd)\n",
    "    end\n",
    "end     "
   ]
  },
  {
   "cell_type": "code",
   "execution_count": 11,
   "metadata": {},
   "outputs": [
    {
     "data": {
      "text/plain": [
       "objective (generic function with 1 method)"
      ]
     },
     "execution_count": 11,
     "metadata": {},
     "output_type": "execute_result"
    }
   ],
   "source": [
    "function objective(eloList, rankedGames; mean = 0, sd = 1000, draw = 0, adv = 0)\n",
    "    log_likelihood(eloList, rankedGames, draw = draw, adv = adv) +\n",
    "        log_prior(eloList, mean = mean, sd = sd)\n",
    "end"
   ]
  },
  {
   "cell_type": "markdown",
   "metadata": {},
   "source": [
    "## Simulate some games"
   ]
  },
  {
   "cell_type": "code",
   "execution_count": 12,
   "metadata": {},
   "outputs": [],
   "source": [
    "using Jtac"
   ]
  },
  {
   "cell_type": "code",
   "execution_count": 45,
   "metadata": {},
   "outputs": [
    {
     "data": {
      "text/plain": [
       "10"
      ]
     },
     "execution_count": 45,
     "metadata": {},
     "output_type": "execute_result"
    }
   ],
   "source": [
    "k = 10"
   ]
  },
  {
   "cell_type": "code",
   "execution_count": 46,
   "metadata": {},
   "outputs": [
    {
     "data": {
      "text/plain": [
       "RolloutModel()"
      ]
     },
     "execution_count": 46,
     "metadata": {},
     "output_type": "execute_result"
    }
   ],
   "source": [
    "model = RolloutModel()"
   ]
  },
  {
   "cell_type": "code",
   "execution_count": 47,
   "metadata": {},
   "outputs": [
    {
     "data": {
      "text/plain": [
       "10-element Array{MCTPlayer{Game},1}:\n",
       " MCTPlayer{Game}(RolloutModel(), 10, 1.0f0, \"mct10-76781\")  \n",
       " MCTPlayer{Game}(RolloutModel(), 20, 1.0f0, \"mct20-76781\")  \n",
       " MCTPlayer{Game}(RolloutModel(), 30, 1.0f0, \"mct30-76781\")  \n",
       " MCTPlayer{Game}(RolloutModel(), 40, 1.0f0, \"mct40-76781\")  \n",
       " MCTPlayer{Game}(RolloutModel(), 50, 1.0f0, \"mct50-76781\")  \n",
       " MCTPlayer{Game}(RolloutModel(), 60, 1.0f0, \"mct60-76781\")  \n",
       " MCTPlayer{Game}(RolloutModel(), 70, 1.0f0, \"mct70-76781\")  \n",
       " MCTPlayer{Game}(RolloutModel(), 80, 1.0f0, \"mct80-76781\")  \n",
       " MCTPlayer{Game}(RolloutModel(), 90, 1.0f0, \"mct90-76781\")  \n",
       " MCTPlayer{Game}(RolloutModel(), 100, 1.0f0, \"mct100-76781\")"
      ]
     },
     "execution_count": 47,
     "metadata": {},
     "output_type": "execute_result"
    }
   ],
   "source": [
    "players = [ MCTPlayer(model, power = 10*i) for i in 1:k ]"
   ]
  },
  {
   "cell_type": "code",
   "execution_count": 48,
   "metadata": {},
   "outputs": [
    {
     "data": {
      "text/plain": [
       "TicTacToe([0, 0, 0, 0, 0, 0, 0, 0, 0], 1, 42)"
      ]
     },
     "execution_count": 48,
     "metadata": {},
     "output_type": "execute_result"
    }
   ],
   "source": [
    "game = TicTacToe()"
   ]
  },
  {
   "cell_type": "code",
   "execution_count": 49,
   "metadata": {},
   "outputs": [
    {
     "data": {
      "text/plain": [
       "-1"
      ]
     },
     "execution_count": 49,
     "metadata": {},
     "output_type": "execute_result"
    }
   ],
   "source": [
    "pvp(players[1], players[2], game)"
   ]
  },
  {
   "cell_type": "code",
   "execution_count": 50,
   "metadata": {},
   "outputs": [
    {
     "data": {
      "text/plain": [
       "createRatedGames (generic function with 1 method)"
      ]
     },
     "execution_count": 50,
     "metadata": {},
     "output_type": "execute_result"
    }
   ],
   "source": [
    "function createRatedGame(players, game)\n",
    "    i = rand(1:length(players))\n",
    "    j = rand(1:length(players)-1)\n",
    "    if j >= i\n",
    "        j += 1\n",
    "    end\n",
    "    result = pvp(players[i], players[j], game)\n",
    "    RankedGame(i, j, result)\n",
    "end\n",
    "\n",
    "function createRatedGames(players, game, n)\n",
    "    [createRatedGame(players, game) for _ in 1:n]\n",
    "end"
   ]
  },
  {
   "cell_type": "code",
   "execution_count": 51,
   "metadata": {},
   "outputs": [
    {
     "data": {
      "text/plain": [
       "1000-element Array{RankedGame,1}:\n",
       " RankedGame(4, 9, 1)  \n",
       " RankedGame(1, 6, -1) \n",
       " RankedGame(5, 2, 1)  \n",
       " RankedGame(4, 6, -1) \n",
       " RankedGame(4, 1, 1)  \n",
       " RankedGame(1, 7, -1) \n",
       " RankedGame(2, 10, 1) \n",
       " RankedGame(1, 6, -1) \n",
       " RankedGame(9, 2, 1)  \n",
       " RankedGame(4, 10, -1)\n",
       " RankedGame(6, 1, 1)  \n",
       " RankedGame(2, 8, 1)  \n",
       " RankedGame(4, 10, 0) \n",
       " ⋮                    \n",
       " RankedGame(3, 7, -1) \n",
       " RankedGame(8, 3, -1) \n",
       " RankedGame(8, 5, 1)  \n",
       " RankedGame(10, 2, 1) \n",
       " RankedGame(7, 6, 0)  \n",
       " RankedGame(3, 2, 0)  \n",
       " RankedGame(8, 5, -1) \n",
       " RankedGame(3, 1, 1)  \n",
       " RankedGame(9, 2, 0)  \n",
       " RankedGame(8, 6, 1)  \n",
       " RankedGame(4, 5, 1)  \n",
       " RankedGame(5, 6, -1) "
      ]
     },
     "execution_count": 51,
     "metadata": {},
     "output_type": "execute_result"
    }
   ],
   "source": [
    "ratings = createRatedGames(players, game, 1000)"
   ]
  },
  {
   "cell_type": "code",
   "execution_count": 52,
   "metadata": {},
   "outputs": [
    {
     "data": {
      "text/plain": [
       "winRate (generic function with 1 method)"
      ]
     },
     "execution_count": 52,
     "metadata": {},
     "output_type": "execute_result"
    }
   ],
   "source": [
    "function wins(p)\n",
    "    filter( ratings ) do r\n",
    "        r.player1 == p && r.result == 1 || r.player2 == p && r.result == -1\n",
    "    end\n",
    "end\n",
    "\n",
    "function plays(p)\n",
    "    filter( ratings ) do r\n",
    "        r.player1 == p || r.player2 == p\n",
    "    end\n",
    "end\n",
    "\n",
    "winRate(p) = length(wins(p)) / length(plays(p))"
   ]
  },
  {
   "cell_type": "code",
   "execution_count": 53,
   "metadata": {},
   "outputs": [
    {
     "data": {
      "text/plain": [
       "10-element Array{Float64,1}:\n",
       " 0.21634615384615385\n",
       " 0.2736842105263158 \n",
       " 0.35714285714285715\n",
       " 0.4020618556701031 \n",
       " 0.3864734299516908 \n",
       " 0.41739130434782606\n",
       " 0.4791666666666667 \n",
       " 0.4263959390862944 \n",
       " 0.4264705882352941 \n",
       " 0.4642857142857143 "
      ]
     },
     "execution_count": 53,
     "metadata": {},
     "output_type": "execute_result"
    }
   ],
   "source": [
    "map(winRate, 1:k)"
   ]
  },
  {
   "cell_type": "markdown",
   "metadata": {},
   "source": [
    "## Calculate Elo values"
   ]
  },
  {
   "cell_type": "code",
   "execution_count": 98,
   "metadata": {},
   "outputs": [
    {
     "data": {
      "text/plain": [
       "-190.94921476970362"
      ]
     },
     "execution_count": 98,
     "metadata": {},
     "output_type": "execute_result"
    }
   ],
   "source": [
    "exo = [10*i for i in 1:k]\n",
    "objective(exo, ratings, draw = 1)"
   ]
  },
  {
   "cell_type": "code",
   "execution_count": 100,
   "metadata": {},
   "outputs": [
    {
     "data": {
      "text/plain": [
       "-0.019250000000000003"
      ]
     },
     "execution_count": 100,
     "metadata": {},
     "output_type": "execute_result"
    }
   ],
   "source": [
    "log_prior(exo)"
   ]
  },
  {
   "cell_type": "code",
   "execution_count": 58,
   "metadata": {},
   "outputs": [
    {
     "data": {
      "text/plain": [
       "estimate_elo_params (generic function with 1 method)"
      ]
     },
     "execution_count": 58,
     "metadata": {},
     "output_type": "execute_result"
    }
   ],
   "source": [
    "function estimate_elo(k, ratings; kwargs...)\n",
    "    opt = NLopt.Opt(:LN_BOBYQA, k)\n",
    "    NLopt.min_objective!(opt, (x, _) -> -objective(x, ratings; kwargs...))\n",
    "    NLopt.lower_bounds!(opt, fill(-2000, k))\n",
    "    NLopt.upper_bounds!(opt, fill(2000, k))\n",
    "    value, params, ret = NLopt.optimize(opt, [0. for _ in 1:k])\n",
    "end\n",
    "\n",
    "function estimate_elo_params(k, ratings; kwargs...)\n",
    "    opt = NLopt.Opt(:LN_BOBYQA, k+2)\n",
    "    NLopt.min_objective!(opt, (x, _) -> -objective(x[1:k], ratings; draw = x[k+2], adv = x[k+1], kwargs...))\n",
    "    NLopt.lower_bounds!(opt, [fill(-2000, k+1); 1])\n",
    "    NLopt.upper_bounds!(opt, fill(2000, k+2))\n",
    "    value, params, ret = NLopt.optimize(opt, [5. for _ in 1:k+2])\n",
    "end"
   ]
  },
  {
   "cell_type": "code",
   "execution_count": 59,
   "metadata": {},
   "outputs": [
    {
     "data": {
      "text/plain": [
       "(1053.978314587922, [-168.218, -78.6132, -15.0152, 16.8235, 9.9881, 27.5632, 64.0896, 48.1434, 39.1829, 56.0723], :ROUNDOFF_LIMITED)"
      ]
     },
     "execution_count": 59,
     "metadata": {},
     "output_type": "execute_result"
    }
   ],
   "source": [
    "estimate_elo(k, ratings, draw = 50)"
   ]
  },
  {
   "cell_type": "code",
   "execution_count": 66,
   "metadata": {},
   "outputs": [
    {
     "data": {
      "text/plain": [
       "(9519.033927084292, [-135.153, -76.2828, -50.5445, -13.9377, 4.39189, 31.6586, 47.5596, 49.9812, 68.6779, 73.7513, 138.802, 94.4373], :ROUNDOFF_LIMITED)"
      ]
     },
     "execution_count": 66,
     "metadata": {},
     "output_type": "execute_result"
    }
   ],
   "source": [
    "estimate_elo_params(k, ratings)"
   ]
  },
  {
   "cell_type": "code",
   "execution_count": 57,
   "metadata": {},
   "outputs": [
    {
     "data": {
      "text/plain": [
       "(1017.6700218256246, [-168.35, -80.2983, -16.1494, 17.4908, 7.8439, 33.4092, 60.033, 47.998, 38.1556, 59.901], :ROUNDOFF_LIMITED)"
      ]
     },
     "execution_count": 57,
     "metadata": {},
     "output_type": "execute_result"
    }
   ],
   "source": [
    "estimate_elo(k, ratings, draw = 50, adv = 50)"
   ]
  },
  {
   "cell_type": "code",
   "execution_count": 67,
   "metadata": {},
   "outputs": [
    {
     "data": {
      "text/plain": [
       "10000-element Array{RankedGame,1}:\n",
       " RankedGame(9, 7, 1)  \n",
       " RankedGame(9, 2, 1)  \n",
       " RankedGame(1, 10, -1)\n",
       " RankedGame(10, 2, 1) \n",
       " RankedGame(7, 9, 0)  \n",
       " RankedGame(8, 7, 0)  \n",
       " RankedGame(2, 9, -1) \n",
       " RankedGame(5, 2, 0)  \n",
       " RankedGame(1, 4, -1) \n",
       " RankedGame(8, 10, -1)\n",
       " RankedGame(6, 7, 1)  \n",
       " RankedGame(8, 6, 1)  \n",
       " RankedGame(6, 5, 1)  \n",
       " ⋮                    \n",
       " RankedGame(2, 7, -1) \n",
       " RankedGame(5, 6, 1)  \n",
       " RankedGame(7, 6, 0)  \n",
       " RankedGame(6, 5, 1)  \n",
       " RankedGame(3, 8, 0)  \n",
       " RankedGame(3, 2, 1)  \n",
       " RankedGame(3, 5, 1)  \n",
       " RankedGame(5, 6, 1)  \n",
       " RankedGame(5, 4, 1)  \n",
       " RankedGame(7, 8, 0)  \n",
       " RankedGame(7, 2, 1)  \n",
       " RankedGame(2, 4, 1)  "
      ]
     },
     "execution_count": 67,
     "metadata": {},
     "output_type": "execute_result"
    }
   ],
   "source": [
    "ratings = createRatedGames(players, game, 10000)"
   ]
  }
 ],
 "metadata": {
  "kernelspec": {
   "display_name": "Julia 1.1.0",
   "language": "julia",
   "name": "julia-1.1"
  },
  "language_info": {
   "file_extension": ".jl",
   "mimetype": "application/julia",
   "name": "julia",
   "version": "1.1.0"
  }
 },
 "nbformat": 4,
 "nbformat_minor": 2
}
